{
 "cells": [
  {
   "cell_type": "code",
   "execution_count": 1,
   "metadata": {},
   "outputs": [],
   "source": [
    "import numpy as np\n",
    "import pandas as pd"
   ]
  },
  {
   "cell_type": "code",
   "execution_count": 2,
   "metadata": {},
   "outputs": [
    {
     "name": "stdout",
     "output_type": "stream",
     "text": [
      "         Date        Open        High         Low       Close   Adj Close  \\\n",
      "0  2018-08-13  296.899994  298.700012  294.899994  296.700012  279.776276   \n",
      "1  2018-08-14  299.100006  300.000000  294.899994  296.500000  279.587677   \n",
      "2  2018-08-15  296.000000  297.399994  293.799988  294.799988  277.984619   \n",
      "3  2018-08-16  296.000000  297.799988  295.700012  296.700012  279.776276   \n",
      "4  2018-08-17  298.299988  298.299988  293.799988  295.500000  278.644714   \n",
      "\n",
      "   Volume  \n",
      "0  572052  \n",
      "1  350106  \n",
      "2  306225  \n",
      "3  414659  \n",
      "4  331706  \n"
     ]
    }
   ],
   "source": [
    "# We read in a stock data data file into a data frame and see what it looks like\n",
    "zurn_data = pd.read_csv(\"ZURN.SW.csv\")\n",
    "\n",
    "# We display the first 5 rows of the DataFrame\n",
    "print(zurn_data.head(5))"
   ]
  },
  {
   "cell_type": "code",
   "execution_count": 3,
   "metadata": {},
   "outputs": [
    {
     "name": "stdout",
     "output_type": "stream",
     "text": [
      "             Adj Close\n",
      "Date                  \n",
      "2018-08-13  279.776276\n",
      "2018-08-14  279.587677\n",
      "2018-08-15  277.984619\n",
      "2018-08-16  279.776276\n",
      "2018-08-17  278.644714\n"
     ]
    }
   ],
   "source": [
    "stock_data = pd.read_csv(\"ZURN.SW.csv\", index_col=\"Date\", parse_dates=True, usecols=['Date','Adj Close'])\n",
    "print(stock_data.head(5))"
   ]
  },
  {
   "cell_type": "code",
   "execution_count": 4,
   "metadata": {},
   "outputs": [
    {
     "data": {
      "text/html": [
       "<div>\n",
       "<style scoped>\n",
       "    .dataframe tbody tr th:only-of-type {\n",
       "        vertical-align: middle;\n",
       "    }\n",
       "\n",
       "    .dataframe tbody tr th {\n",
       "        vertical-align: top;\n",
       "    }\n",
       "\n",
       "    .dataframe thead th {\n",
       "        text-align: right;\n",
       "    }\n",
       "</style>\n",
       "<table border=\"1\" class=\"dataframe\">\n",
       "  <thead>\n",
       "    <tr style=\"text-align: right;\">\n",
       "      <th></th>\n",
       "      <th>Adj Close</th>\n",
       "    </tr>\n",
       "  </thead>\n",
       "  <tbody>\n",
       "    <tr>\n",
       "      <th>count</th>\n",
       "      <td>254.000000</td>\n",
       "    </tr>\n",
       "    <tr>\n",
       "      <th>mean</th>\n",
       "      <td>307.319245</td>\n",
       "    </tr>\n",
       "    <tr>\n",
       "      <th>std</th>\n",
       "      <td>22.913125</td>\n",
       "    </tr>\n",
       "    <tr>\n",
       "      <th>min</th>\n",
       "      <td>267.894958</td>\n",
       "    </tr>\n",
       "    <tr>\n",
       "      <th>25%</th>\n",
       "      <td>287.791443</td>\n",
       "    </tr>\n",
       "    <tr>\n",
       "      <th>50%</th>\n",
       "      <td>301.558640</td>\n",
       "    </tr>\n",
       "    <tr>\n",
       "      <th>75%</th>\n",
       "      <td>325.600006</td>\n",
       "    </tr>\n",
       "    <tr>\n",
       "      <th>max</th>\n",
       "      <td>351.799988</td>\n",
       "    </tr>\n",
       "  </tbody>\n",
       "</table>\n",
       "</div>"
      ],
      "text/plain": [
       "        Adj Close\n",
       "count  254.000000\n",
       "mean   307.319245\n",
       "std     22.913125\n",
       "min    267.894958\n",
       "25%    287.791443\n",
       "50%    301.558640\n",
       "75%    325.600006\n",
       "max    351.799988"
      ]
     },
     "execution_count": 4,
     "metadata": {},
     "output_type": "execute_result"
    }
   ],
   "source": [
    "stock_data.describe()"
   ]
  },
  {
   "cell_type": "code",
   "execution_count": 5,
   "metadata": {},
   "outputs": [
    {
     "name": "stdout",
     "output_type": "stream",
     "text": [
      "('Vol in $:', 22.91312515331088)\n",
      "('Vol used for pricing in % terms ', 7.4558054861334435)\n"
     ]
    }
   ],
   "source": [
    "print(\"Vol in $:\",stock_data.std()[0])\n",
    "vol = 100*(stock_data.std()[0]/stock_data.mean()[0])\n",
    "print(\"Vol used for pricing in % terms \",vol)"
   ]
  },
  {
   "cell_type": "code",
   "execution_count": 6,
   "metadata": {},
   "outputs": [
    {
     "name": "stdout",
     "output_type": "stream",
     "text": [
      "We assume that the normal trading days in a year is 252\n",
      "Enter days to maturity:92\n",
      "0.365079365079\n"
     ]
    }
   ],
   "source": [
    "print('We assume that the normal trading days in a year is 252')\n",
    "t = float(raw_input('Enter days to maturity:'))\n",
    "t = float(t/252)\n",
    "print(t)"
   ]
  },
  {
   "cell_type": "code",
   "execution_count": 7,
   "metadata": {},
   "outputs": [
    {
     "name": "stdout",
     "output_type": "stream",
     "text": [
      "Enter risk free rate as a decimal:0\n"
     ]
    }
   ],
   "source": [
    "r = float(raw_input('Enter risk free rate as a decimal:'))"
   ]
  },
  {
   "cell_type": "code",
   "execution_count": 8,
   "metadata": {},
   "outputs": [
    {
     "name": "stdout",
     "output_type": "stream",
     "text": [
      "How much dividend does the stock pay? 0\n"
     ]
    }
   ],
   "source": [
    "q = float(raw_input('How much dividend does the stock pay? '))"
   ]
  },
  {
   "cell_type": "code",
   "execution_count": 9,
   "metadata": {},
   "outputs": [
    {
     "name": "stdout",
     "output_type": "stream",
     "text": [
      "351.799988\n"
     ]
    }
   ],
   "source": [
    "S_0 = stock_data['Adj Close'][-1]\n",
    "print S_0"
   ]
  },
  {
   "cell_type": "code",
   "execution_count": 10,
   "metadata": {},
   "outputs": [
    {
     "name": "stdout",
     "output_type": "stream",
     "text": [
      "Enter the strike price: 340\n"
     ]
    }
   ],
   "source": [
    "X = float(raw_input('Enter the strike price: '))"
   ]
  },
  {
   "cell_type": "code",
   "execution_count": 14,
   "metadata": {},
   "outputs": [
    {
     "name": "stdout",
     "output_type": "stream",
     "text": [
      "('U=', 1.0460794483047888)\n",
      "('D=', 0.9559503359142919)\n"
     ]
    }
   ],
   "source": [
    "#Calculate U (factor of up-move in price at expiration)\n",
    "U = np.power(np.e, (vol/100)*np.power(t, .5))\n",
    "print(\"U=\",U)\n",
    "#Calculate D (factor of down-move in price at expiration)\n",
    "D = 1/U\n",
    "print(\"D=\",D)"
   ]
  },
  {
   "cell_type": "code",
   "execution_count": 15,
   "metadata": {},
   "outputs": [
    {
     "name": "stdout",
     "output_type": "stream",
     "text": [
      "('P_U=', 0.4887395750094242)\n",
      "('P_D=', 0.5112604249905758)\n"
     ]
    }
   ],
   "source": [
    "#Calculate the probability of U\n",
    "P_U= (np.power(np.e, (r)*t) - D)/(U-D)\n",
    "print(\"P_U=\",P_U)\n",
    "#Calculate the probability of D\n",
    "P_D = 1 - P_U\n",
    "print(\"P_D=\",P_D)"
   ]
  },
  {
   "cell_type": "code",
   "execution_count": 16,
   "metadata": {},
   "outputs": [
    {
     "name": "stdout",
     "output_type": "stream",
     "text": [
      "('S_U=', 368.0107373606713)\n",
      "('S_D=', 336.30331670324387)\n"
     ]
    }
   ],
   "source": [
    "#Calculate the up-move/increase in stock price at expiry\n",
    "S_U = S_0*U\n",
    "print(\"S_U=\",S_U)\n",
    "#Calculate the down-move/decrease in stock price at expiry\n",
    "S_D = S_0*D\n",
    "print(\"S_D=\",S_D)"
   ]
  },
  {
   "cell_type": "code",
   "execution_count": 17,
   "metadata": {},
   "outputs": [
    {
     "name": "stdout",
     "output_type": "stream",
     "text": [
      "('C=', 13.689955873355107)\n",
      "('c=', 13.689955873355107)\n"
     ]
    }
   ],
   "source": [
    "#Calculate call option payoff\n",
    "C = max(0, P_D*(S_D-X), P_U*(S_U-X))\n",
    "print(\"C=\",C)\n",
    "\n",
    "#Calculate call option value today\n",
    "c = C*np.power(np.e, -r*t)\n",
    "print(\"c=\",c)"
   ]
  },
  {
   "cell_type": "code",
   "execution_count": 20,
   "metadata": {},
   "outputs": [
    {
     "name": "stdout",
     "output_type": "stream",
     "text": [
      "[[0. 0. 0. ... 0. 0. 0.]\n",
      " [0. 0. 0. ... 0. 0. 0.]\n",
      " [0. 0. 0. ... 0. 0. 0.]\n",
      " ...\n",
      " [0. 0. 0. ... 0. 0. 0.]\n",
      " [0. 0. 0. ... 0. 0. 0.]\n",
      " [0. 0. 0. ... 0. 0. 0.]]\n"
     ]
    }
   ],
   "source": [
    "stock = np.zeros([100,100])\n",
    "print stock"
   ]
  },
  {
   "cell_type": "code",
   "execution_count": 22,
   "metadata": {},
   "outputs": [
    {
     "name": "stdout",
     "output_type": "stream",
     "text": [
      "How many steps do you want to use? 120\n",
      "Call price for 120 steps is 73.5897664177\n"
     ]
    }
   ],
   "source": [
    "def binomial_call_pricer(N, S_0, v, r, X, t, q):\n",
    "    \"\"\"\n",
    "    \n",
    "    This pricer takes as input the variables below which we have already defined above based on an N step binomial pricing model\n",
    "    and returns the price of a call option.\n",
    "    \n",
    "    Inputs:\n",
    "    N (int) = number of binomial steps\n",
    "    S_0 (float) = initial stock price\n",
    "    v (float) = annual volatility\n",
    "    r (float) = risk free interest rate per annum\n",
    "    X (float) = strike price\n",
    "    t (float) = time to expiration\n",
    "    q (float) = dividend yield\n",
    "    \n",
    "    Returns (float): call price in local currency terms\n",
    "    \n",
    "    \"\"\"\n",
    "    #Calculate the up-move and down-move factors and associated probabilities\n",
    "    U = np.power(np.e, (vol/100)*np.power(t, .5))\n",
    "    D = 1 / U\n",
    "    P_U = (np.power(np.e, (r)*t) - D)/(U-D)\n",
    "    P_D = 1 - P_U\n",
    " \n",
    "    # make stock price tree\n",
    "    stock = np.zeros([N + 1, N + 1])\n",
    "    for i in range(N + 1):\n",
    "        for j in range(i + 1):\n",
    "            stock[j, i] = S_0 * np.power(U,i - j) * np.power(D,j)\n",
    "            \n",
    "    # Generate option prices recursively                          \n",
    "    option= np.zeros([N + 1, N + 1])\n",
    "    option[:, N] = np.maximum(np.zeros(N + 1), (stock[:, N] - X))\n",
    "    for i in range(N - 1, -1, -1):\n",
    "        for j in range(0, i + 1):\n",
    "            option[j, i] = (np.power(np.e, -r*t)* (P_U * option[j, i + 1] + P_D * option[j + 1, i + 1]))\n",
    "           \n",
    "            \n",
    "    return option[0,0]\n",
    "\n",
    "N = int(raw_input('How many steps do you want to use? '))\n",
    "                                 \n",
    "print(\"Call price for {} steps is {}\".format(N,binomial_call_pricer(N, S_0, vol/100, r, X, t, q)))"
   ]
  },
  {
   "cell_type": "code",
   "execution_count": null,
   "metadata": {},
   "outputs": [],
   "source": []
  }
 ],
 "metadata": {
  "kernelspec": {
   "display_name": "Python 2",
   "language": "python",
   "name": "python2"
  },
  "language_info": {
   "codemirror_mode": {
    "name": "ipython",
    "version": 2
   },
   "file_extension": ".py",
   "mimetype": "text/x-python",
   "name": "python",
   "nbconvert_exporter": "python",
   "pygments_lexer": "ipython2",
   "version": "2.7.16"
  }
 },
 "nbformat": 4,
 "nbformat_minor": 2
}
